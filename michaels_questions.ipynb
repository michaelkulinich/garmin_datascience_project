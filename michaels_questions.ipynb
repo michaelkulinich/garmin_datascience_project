{
 "cells": [
  {
   "cell_type": "markdown",
   "metadata": {},
   "source": [
    "- In this part of the project, we will be analyzing new data sets. Michael has had the watch since July and has gone on about 35 runs; therefore, there are not enought data points to analyze his running.\n",
    "- Michael has a Garmin Smart Watch, and all of his data can be found on a website 'Garmin Connect'. Here, we pulled all the data that we could. Since Michael wears his watch almost 24/7, it also analyzes many health statistics (will cover in more detail later) such as Resting Heart Rate, Sleep hours, Stress Level, ect...\n",
    "- In these three questions of the "
   ]
  },
  {
   "cell_type": "markdown",
   "metadata": {},
   "source": [
    "- bring up the three questions that we want to answer, \n",
    "- summarize how I am going to answer them, talk about the two data sets and why I will combine them\n",
    "- "
   ]
  },
  {
   "cell_type": "markdown",
   "metadata": {},
   "source": [
    "- Open up the stress data set, show the head, talk about it\n",
    "- "
   ]
  },
  {
   "cell_type": "markdown",
   "metadata": {},
   "source": [
    "- Open up the activities data set. show the head. graph the distributions, talk about what I did most, how often I worked out multiple times a day"
   ]
  },
  {
   "cell_type": "markdown",
   "metadata": {},
   "source": [
    "- In order to answer my questions, I will add columns to my health data set. The column will tell us whether or not I exercised on this given day.\n",
    "- I will make a function that iterates through the days of my health data set (every day since july) and it looks into the activities data set and sees if I worked out that day\n",
    "- graph how many times I exercised, vs not\n",
    "- how often I worked out multiple times in a day"
   ]
  },
  {
   "cell_type": "code",
   "execution_count": null,
   "metadata": {},
   "outputs": [],
   "source": []
  }
 ],
 "metadata": {
  "kernelspec": {
   "display_name": "PYsysMK",
   "language": "python",
   "name": "pysysmk"
  },
  "language_info": {
   "codemirror_mode": {
    "name": "ipython",
    "version": 3
   },
   "file_extension": ".py",
   "mimetype": "text/x-python",
   "name": "python",
   "nbconvert_exporter": "python",
   "pygments_lexer": "ipython3",
   "version": "3.7.7"
  }
 },
 "nbformat": 4,
 "nbformat_minor": 4
}
